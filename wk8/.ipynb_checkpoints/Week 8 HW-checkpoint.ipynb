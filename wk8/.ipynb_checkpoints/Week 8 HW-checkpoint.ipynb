{
 "cells": [
  {
   "cell_type": "code",
   "execution_count": 2,
   "metadata": {
    "collapsed": false
   },
   "outputs": [],
   "source": [
    "import matplotlib.pyplot as plt\n"
   ]
  },
  {
   "cell_type": "code",
   "execution_count": 14,
   "metadata": {
    "collapsed": false
   },
   "outputs": [],
   "source": [
    "words = open(\"words.txt\").readlines()"
   ]
  },
  {
   "cell_type": "code",
   "execution_count": 21,
   "metadata": {
    "collapsed": false
   },
   "outputs": [
    {
     "name": "stdout",
     "output_type": "stream",
     "text": [
      "235886\n",
      "['a\\n', 'a\\n', 'aa\\n', 'aal\\n', 'aalii\\n', 'aam\\n', 'aani\\n', 'aardvark\\n', 'aardwolf\\n', 'aaron\\n', 'aaronic\\n', 'aaronical\\n', 'aaronite\\n', 'aaronitic\\n', 'aaru\\n', 'ab\\n', 'aba\\n', 'ababdeh\\n', 'ababua\\n', 'abac\\n', 'abaca\\n', 'abacate\\n', 'abacay\\n', 'abacinate\\n', 'abacination\\n', 'abaciscus\\n', 'abacist\\n', 'aback\\n', 'abactinal\\n', 'abactinally\\n', 'abaction\\n', 'abactor\\n', 'abaculus\\n', 'abacus\\n', 'abadite\\n', 'abaff\\n', 'abaft\\n', 'abaisance\\n', 'abaiser\\n', 'abaissed\\n', 'abalienate\\n', 'abalienation\\n', 'abalone\\n', 'abama\\n', 'abampere\\n', 'abandon\\n', 'abandonable\\n', 'abandoned\\n', 'abandonedly\\n', 'abandonee\\n']\n",
      "[[], [], [], [], [], [], [], [], [], [], [], [], [], [], [], [], [], [], [], [], [], [], [], [], [], []]\n"
     ]
    }
   ],
   "source": [
    "print len(words)\n",
    "words = [x.lower() for x in words]\n",
    "print words[:50]\n",
    "buckets = [[] for x in range(26)]\n",
    "print buckets"
   ]
  },
  {
   "cell_type": "code",
   "execution_count": 19,
   "metadata": {
    "collapsed": false
   },
   "outputs": [],
   "source": []
  },
  {
   "cell_type": "code",
   "execution_count": 20,
   "metadata": {
    "collapsed": false
   },
   "outputs": [
    {
     "name": "stdout",
     "output_type": "stream",
     "text": [
      "[[], [], [], [], [], [], [], [], [], [], [], [], [], [], [], [], [], [], [], [], [], [], [], [], [], []]\n"
     ]
    }
   ],
   "source": []
  },
  {
   "cell_type": "code",
   "execution_count": null,
   "metadata": {
    "collapsed": true
   },
   "outputs": [],
   "source": []
  }
 ],
 "metadata": {
  "kernelspec": {
   "display_name": "Python 2",
   "language": "python",
   "name": "python2"
  },
  "language_info": {
   "codemirror_mode": {
    "name": "ipython",
    "version": 2
   },
   "file_extension": ".py",
   "mimetype": "text/x-python",
   "name": "python",
   "nbconvert_exporter": "python",
   "pygments_lexer": "ipython2",
   "version": "2.7.6"
  }
 },
 "nbformat": 4,
 "nbformat_minor": 0
}
