{
 "cells": [
  {
   "cell_type": "code",
   "execution_count": 37,
   "metadata": {
    "collapsed": false
   },
   "outputs": [],
   "source": [
    "%matplotlib inline\n",
    "import matplotlib.pyplot as plt\n",
    "import crc32c as crc\n"
   ]
  },
  {
   "cell_type": "markdown",
   "metadata": {},
   "source": [
    "Range Partitioning\n",
    "2. The distribution is not uniform.\n",
    "3. Range Partitioning is a good idea if most of the queries started with something in the range [c, n] since that's the most uniformly distributed area\n",
    "\n",
    "Consistent Hashing\n",
    "4. The distribution is uniform.\n",
    "5. Consistent hashing is a good idea if the queries are evenly distributed across the whole range of buckets\n",
    "6. About 90725 objects would be reshuffled\n",
    "7. With consistent hashing you can expect K/n * N keys to be moved, where N is the number of additional nodes.  This is different from standard hash tables since standard hash tables would require all keys to be shuffled every time any number of nodes were added.\n",
    "8. MongoDB implements range partitioning.\n",
    "9. Riak, Cassandra, and Voldemort all implement consistent hashing."
   ]
  },
  {
   "cell_type": "code",
   "execution_count": 14,
   "metadata": {
    "collapsed": false
   },
   "outputs": [],
   "source": [
    "words = open(\"words.txt\").readlines()"
   ]
  },
  {
   "cell_type": "code",
   "execution_count": 21,
   "metadata": {
    "collapsed": false
   },
   "outputs": [
    {
     "name": "stdout",
     "output_type": "stream",
     "text": [
      "235886\n",
      "['a\\n', 'a\\n', 'aa\\n', 'aal\\n', 'aalii\\n', 'aam\\n', 'aani\\n', 'aardvark\\n', 'aardwolf\\n', 'aaron\\n', 'aaronic\\n', 'aaronical\\n', 'aaronite\\n', 'aaronitic\\n', 'aaru\\n', 'ab\\n', 'aba\\n', 'ababdeh\\n', 'ababua\\n', 'abac\\n', 'abaca\\n', 'abacate\\n', 'abacay\\n', 'abacinate\\n', 'abacination\\n', 'abaciscus\\n', 'abacist\\n', 'aback\\n', 'abactinal\\n', 'abactinally\\n', 'abaction\\n', 'abactor\\n', 'abaculus\\n', 'abacus\\n', 'abadite\\n', 'abaff\\n', 'abaft\\n', 'abaisance\\n', 'abaiser\\n', 'abaissed\\n', 'abalienate\\n', 'abalienation\\n', 'abalone\\n', 'abama\\n', 'abampere\\n', 'abandon\\n', 'abandonable\\n', 'abandoned\\n', 'abandonedly\\n', 'abandonee\\n']\n",
      "[[], [], [], [], [], [], [], [], [], [], [], [], [], [], [], [], [], [], [], [], [], [], [], [], [], []]\n"
     ]
    }
   ],
   "source": [
    "print len(words)\n",
    "words = [x.lower() for x in words]\n",
    "print words[:50]\n",
    "buckets = [[] for x in range(26)]\n",
    "print buckets\n",
    "\n",
    "for word in words:\n",
    "    bucket = ord(word[0])-97\n",
    "    buckets[bucket].append(word)\n",
    "    \n",
    "entries = [len(bucket) for bucket in buckets]"
   ]
  },
  {
   "cell_type": "code",
   "execution_count": 31,
   "metadata": {
    "collapsed": false,
    "scrolled": true
   },
   "outputs": [
    {
     "data": {
      "image/png": "[encoded data removed]",
      "text/plain": [
       "<matplotlib.figure.Figure at 0xb005a22c>"
      ]
     },
     "metadata": {},
     "output_type": "display_data"
    }
   ],
   "source": [
    "plt.plot(entries)\n",
    "plt.show()"
   ]
  },
  {
   "cell_type": "code",
   "execution_count": 61,
   "metadata": {
    "collapsed": false
   },
   "outputs": [
    {
     "name": "stdout",
     "output_type": "stream",
     "text": [
      "[[], [], [], [], [], [], [], [], [], [], [], [], [], [], [], [], [], [], [], [], [], [], [], [], [], []]\n"
     ]
    },
    {
     "data": {
      "image/png": "[encoded data removed]",
      "text/plain": [
       "<matplotlib.figure.Figure at 0xb1574b0c>"
      ]
     },
     "metadata": {},
     "output_type": "display_data"
    }
   ],
   "source": [
    "hashed_buckets = [[] for x in range(26)]\n",
    "print hashed_buckets\n",
    "\n",
    "for word in words:\n",
    "    bucket_width = pow(2,32)/26\n",
    "    bucket = crc.crc(word)/bucket_width\n",
    "    hashed_buckets[bucket].append(word)\n",
    "    \n",
    "hashed_entries = [len(bucket) for bucket in hashed_buckets]\n",
    "plt.plot(hashed_entries)\n",
    "plt.axis([0,25,0,10000])\n",
    "plt.show()"
   ]
  },
  {
   "cell_type": "code",
   "execution_count": 72,
   "metadata": {
    "collapsed": false
   },
   "outputs": [
    {
     "name": "stdout",
     "output_type": "stream",
     "text": [
      "90725\n"
     ]
    }
   ],
   "source": [
    "print 10*len(words)/26"
   ]
  },
  {
   "cell_type": "code",
   "execution_count": null,
   "metadata": {
    "collapsed": true
   },
   "outputs": [],
   "source": []
  }
 ],
 "metadata": {
  "kernelspec": {
   "display_name": "Python 2",
   "language": "python",
   "name": "python2"
  },
  "language_info": {
   "codemirror_mode": {
    "name": "ipython",
    "version": 2
   },
   "file_extension": ".py",
   "mimetype": "text/x-python",
   "name": "python",
   "nbconvert_exporter": "python",
   "pygments_lexer": "ipython2",
   "version": "2.7.6"
  }
 },
 "nbformat": 4,
 "nbformat_minor": 0
}
